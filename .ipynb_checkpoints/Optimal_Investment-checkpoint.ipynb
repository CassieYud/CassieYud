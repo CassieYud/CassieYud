{
 "cells": [
  {
   "cell_type": "code",
   "execution_count": 791,
   "metadata": {},
   "outputs": [],
   "source": [
    "import numpy as np\n",
    "import matplotlib\n",
    "from matplotlib import pyplot as plt\n",
    "from scipy.stats import norm\n",
    "from scipy.interpolate import make_interp_spline, BSpline"
   ]
  },
  {
   "cell_type": "code",
   "execution_count": 701,
   "metadata": {},
   "outputs": [],
   "source": [
    "# approximate ln(z') = 0.7*ln(z) + ε' \n",
    "# sigma(ε) = 0.15\n",
    "# Return values:\n",
    "#    z_vals: array of possible ln(z) valus\n",
    "#    trans_matrix: markov transition matrix\n",
    "# by Tauchen and Hussey \n",
    "# Resources: \n",
    "#    http://www.chrisedmond.net/phd2014/90065_lecture3.pdf (page16,17)\n",
    "#    https://python4econ.blogspot.com/2012/11/tauchen-hussey-numerical-integration.html\n",
    "\n",
    "def approximateZValues(num_z, sigma, rho):\n",
    "    sigma = sigma\n",
    "    trans_matrix = np.zeros((num_z,num_z))\n",
    "    \n",
    "    # gauss hermite nodes and weights\n",
    "    nodes, weights = np.polynomial.hermite.hermgauss(num_z)\n",
    "    Zprob = np.zeros((num_z,num_z))\n",
    "    \n",
    "    nodes1 = nodes * np.sqrt(2 * (sigma**2))\n",
    "    weights1 = weights / np.sqrt(np.pi)\n",
    "    \n",
    "    # iterate each z\n",
    "    for i in range(num_z):\n",
    "        \n",
    "        # iterate next period z'\n",
    "        for j in range(num_z):\n",
    "            \n",
    "            #p(xj|xi) = ɸ((xj - ((1-ro)M - r*xi))/σ)= ɸ((xj -(r*xi))/σ)\n",
    "                                        #p(xj|xi)*wj/w(xj)\n",
    "            trans_matrix[i,j] = norm.pdf(nodes1[j], rho*nodes1[i], sigma) * weights1[j]/ norm.pdf(nodes1[j], 0, sigma)\n",
    "\n",
    "    sum_j = np.sum(trans_matrix, axis = 1)\n",
    "    trans_matrix /= sum_j\n",
    "    \n",
    "\n",
    "#     print(\"j sum\" +str(sum_j))\n",
    "    return nodes1, trans_matrix\n",
    "\n"
   ]
  },
  {
   "cell_type": "code",
   "execution_count": 811,
   "metadata": {},
   "outputs": [],
   "source": [
    "# all the parameters\n",
    "num_z = 20\n",
    "num_k = 30\n",
    "rho = 0.7\n",
    "theta = 0.7\n",
    "sigma_epsilon = 0.15\n",
    "delta = 0.15\n",
    "r = 0.04\n",
    "time = num_z"
   ]
  },
  {
   "cell_type": "code",
   "execution_count": 812,
   "metadata": {},
   "outputs": [
    {
     "name": "stdout",
     "output_type": "stream",
     "text": [
      "[-1.14285728 -0.97658852 -0.83681082 -0.7101872  -0.5915951  -0.47835222\n",
      " -0.36879954 -0.2617871  -0.1564418  -0.05204462  0.05204462  0.1564418\n",
      "  0.2617871   0.36879954  0.47835222  0.5915951   0.7101872   0.83681082\n",
      "  0.97658852  1.14285728]\n"
     ]
    }
   ],
   "source": [
    "ln_z_vals, trans_matrix = approximateZValues(num_z, sigma_epsilon, rho)\n",
    "\n",
    "# get z = e^ln(z)\n",
    "z_vals = np.exp(ln_z_vals)\n",
    "print(ln_z_vals)\n",
    "# choice of grids for the state variable(k,z)\n",
    "# array of [k,z] pairs\n",
    "\n",
    "# print(\"z\" + str(z_vals))\n",
    "# print(\"markov transition matrix is\\n\"+ str(trans_matrix)+\"\\n\")\n",
    "# print(\"ln_Z is\" + str(ln_z_vals))"
   ]
  },
  {
   "cell_type": "code",
   "execution_count": 825,
   "metadata": {},
   "outputs": [
    {
     "name": "stdout",
     "output_type": "stream",
     "text": [
      "H policy is [[11. 11. 11. 11. 11. 11. 11. 11. 11. 11. 11. 11. 11. 11. 11. 11. 11. 11.\n",
      "  11. 11. 11. 11. 11. 11. 11. 11. 11. 11. 11. 11.]\n",
      " [13. 13. 13. 13. 13. 13. 13. 13. 13. 13. 13. 13. 13. 13. 13. 13. 13. 13.\n",
      "  13. 13. 13. 13. 13. 13. 13. 13. 13. 13. 13. 13.]\n",
      " [15. 15. 15. 15. 15. 15. 15. 15. 15. 15. 15. 15. 15. 15. 15. 15. 15. 15.\n",
      "  15. 15. 15. 15. 15. 15. 15. 15. 15. 15. 15. 15.]\n",
      " [17. 17. 17. 17. 17. 17. 17. 17. 17. 17. 17. 17. 17. 17. 17. 17. 17. 17.\n",
      "  17. 17. 17. 17. 17. 17. 17. 17. 17. 17. 17. 17.]\n",
      " [19. 19. 19. 19. 19. 19. 19. 19. 19. 19. 19. 19. 19. 19. 19. 19. 19. 19.\n",
      "  19. 19. 19. 19. 19. 19. 19. 19. 19. 19. 19. 19.]\n",
      " [21. 21. 21. 21. 21. 21. 21. 21. 21. 21. 21. 21. 21. 21. 21. 21. 21. 21.\n",
      "  21. 21. 21. 21. 21. 21. 21. 21. 21. 21. 21. 21.]\n",
      " [22. 22. 22. 22. 22. 22. 22. 22. 22. 22. 22. 22. 22. 22. 22. 22. 22. 22.\n",
      "  22. 22. 22. 22. 22. 22. 22. 22. 22. 22. 22. 22.]\n",
      " [23. 23. 23. 23. 23. 23. 23. 23. 23. 23. 23. 23. 23. 23. 23. 23. 23. 23.\n",
      "  23. 23. 23. 23. 23. 23. 23. 23. 23. 23. 23. 23.]\n",
      " [25. 25. 25. 25. 25. 25. 25. 25. 25. 25. 25. 25. 25. 25. 25. 25. 25. 25.\n",
      "  25. 25. 25. 25. 25. 25. 25. 25. 25. 25. 25. 25.]\n",
      " [26. 26. 26. 26. 26. 26. 26. 26. 26. 26. 26. 26. 26. 26. 26. 26. 26. 26.\n",
      "  26. 26. 26. 26. 26. 26. 26. 26. 26. 26. 26. 26.]\n",
      " [28. 28. 28. 28. 28. 28. 28. 28. 28. 28. 28. 28. 28. 28. 28. 28. 28. 28.\n",
      "  28. 28. 28. 28. 28. 28. 28. 28. 28. 28. 28. 28.]\n",
      " [29. 29. 29. 29. 29. 29. 29. 29. 29. 29. 29. 29. 29. 29. 29. 29. 29. 29.\n",
      "  29. 29. 29. 29. 29. 29. 29. 29. 29. 29. 29. 29.]\n",
      " [29. 29. 29. 29. 29. 29. 29. 29. 29. 29. 29. 29. 29. 29. 29. 29. 29. 29.\n",
      "  29. 29. 29. 29. 29. 29. 29. 29. 29. 29. 29. 29.]\n",
      " [29. 29. 29. 29. 29. 29. 29. 29. 29. 29. 29. 29. 29. 29. 29. 29. 29. 29.\n",
      "  29. 29. 29. 29. 29. 29. 29. 29. 29. 29. 29. 29.]\n",
      " [29. 29. 29. 29. 29. 29. 29. 29. 29. 29. 29. 29. 29. 29. 29. 29. 29. 29.\n",
      "  29. 29. 29. 29. 29. 29. 29. 29. 29. 29. 29. 29.]\n",
      " [29. 29. 29. 29. 29. 29. 29. 29. 29. 29. 29. 29. 29. 29. 29. 29. 29. 29.\n",
      "  29. 29. 29. 29. 29. 29. 29. 29. 29. 29. 29. 29.]\n",
      " [29. 29. 29. 29. 29. 29. 29. 29. 29. 29. 29. 29. 29. 29. 29. 29. 29. 29.\n",
      "  29. 29. 29. 29. 29. 29. 29. 29. 29. 29. 29. 29.]\n",
      " [29. 29. 29. 29. 29. 29. 29. 29. 29. 29. 29. 29. 29. 29. 29. 29. 29. 29.\n",
      "  29. 29. 29. 29. 29. 29. 29. 29. 29. 29. 29. 29.]\n",
      " [29. 29. 29. 29. 29. 29. 29. 29. 29. 29. 29. 29. 29. 29. 29. 29. 29. 29.\n",
      "  29. 29. 29. 29. 29. 29. 29. 29. 29. 29. 29. 29.]\n",
      " [29. 29. 29. 29. 29. 29. 29. 29. 29. 29. 29. 29. 29. 29. 29. 29. 29. 29.\n",
      "  29. 29. 29. 29. 29. 29. 29. 29. 29. 29. 29. 29.]]\n",
      "0\n",
      "1\n",
      "2\n",
      "3\n",
      "4\n",
      "5\n",
      "6\n",
      "7\n",
      "8\n",
      "9\n",
      "10\n",
      "11\n",
      "12\n",
      "13\n",
      "14\n",
      "15\n",
      "16\n",
      "17\n",
      "18\n",
      "19\n",
      "z series[[ 0.]\n",
      " [ 3.]\n",
      " [ 4.]\n",
      " [ 7.]\n",
      " [13.]\n",
      " [13.]\n",
      " [11.]\n",
      " [12.]\n",
      " [13.]\n",
      " [13.]\n",
      " [17.]\n",
      " [15.]\n",
      " [18.]\n",
      " [15.]\n",
      " [11.]\n",
      " [11.]\n",
      " [10.]\n",
      " [11.]\n",
      " [10.]\n",
      " [11.]]\n",
      "rate[-0.79635359  1.80146834  0.53408304  1.06568588  1.80146834  0.15\n",
      "  0.15        0.15        0.15        0.15        0.15        0.15\n",
      "  0.15        0.15        0.15        0.15        0.          0.32647059\n",
      "  0.          0.32647059]\n"
     ]
    },
    {
     "data": {
      "image/png": "[encoded data removed]",
      "text/plain": [
       "<Figure size 432x288 with 1 Axes>"
      ]
     },
     "metadata": {
      "needs_background": "light"
     },
     "output_type": "display_data"
    },
    {
     "data": {
      "text/plain": [
       "[<matplotlib.lines.Line2D at 0x1a23ef5a90>]"
      ]
     },
     "execution_count": 825,
     "metadata": {},
     "output_type": "execute_result"
    },
    {
     "data": {
      "image/png": "[encoded data removed]",
      "text/plain": [
       "<Figure size 432x288 with 1 Axes>"
      ]
     },
     "metadata": {
      "needs_background": "light"
     },
     "output_type": "display_data"
    }
   ],
   "source": [
    "#initialize k to be a multiplicative sequence\n",
    "k_vals = np.zeros((num_k,1))\n",
    "k_vals[0] = 1\n",
    "for i in range(1,num_k):\n",
    "    k_vals[i] = k_vals[i - 1]/(1- delta)\n",
    "# print(k_vals)\n",
    "value_function = np.zeros((num_z, num_k))\n",
    "\n",
    "# no adjustment cost \n",
    "H = valueIteration()\n",
    "print(\"H policy is \" + str(H))\n",
    "k_index = int(29)\n",
    "\n",
    "rate_invest = np.zeros(num_z)\n",
    "#print(z_index)\n",
    "#print(k_index)\n",
    "\n",
    "z_series = np.zeros((time, 1))\n",
    "z_series_val = np.zeros((time, 1))\n",
    "z_index = 0\n",
    "\n",
    "i = 0\n",
    "while(i < time):\n",
    "    print(i)\n",
    "    z_series[i] = z_index\n",
    "    z_series_val[i] = z_vals[z_index]\n",
    "    rand_prob =np.random.uniform(0,1)\n",
    "    tmp_z = trans_matrix[z_index]\n",
    "    \n",
    "    # keep track current z state < rand_prob\n",
    "    tmp_index = 0\n",
    "    sum_prob = 0\n",
    "    \n",
    "    while(tmp_index < num_z):\n",
    "        if(rand_prob <= sum_prob):\n",
    "            break\n",
    "        sum_prob += tmp_z[tmp_index]\n",
    "        tmp_index += 1\n",
    "    z_index = tmp_index\n",
    "    i+=1\n",
    "print(\"z series\" + str(z_series))\n",
    "\n",
    "for j in range(num_z):\n",
    "    #print(\"z\"+str())\n",
    "    #print(H[i][k_index])\n",
    "    tmp_index = int(z_series[j])\n",
    "    k_prime_index = int(H[tmp_index][k_index])\n",
    "    rate_invest[j] = (k_vals[k_prime_index] - (1-delta)*k_vals[k_index])/k_vals[k_index]\n",
    "    k_index = k_prime_index\n",
    "\n",
    "    \n",
    "print(\"rate\" + str(rate_invest))\n",
    "#rate_invest\n",
    "\n",
    "#plt.plot(z_vals, rate_invest,'o')\n",
    "m, b = np.polyfit(z_vals, rate_invest, 1)\n",
    "\n",
    "\n",
    "# 300 represents number of points to make between T.min and T.max\n",
    "xnew = np.linspace(z_vals.min(), z_vals.max(), 20) \n",
    "spl = make_interp_spline(z_vals, rate_invest, k=3)  # type: BSpline\n",
    "rate_smooth = spl(xnew)\n",
    "plt.plot(xnew, rate_smooth)\n",
    "plt.show()\n",
    "\n",
    "plt.plot(z_vals, m*z_vals + b)\n",
    "plt.plot(z_series_val,rate_invest)"
   ]
  },
  {
   "cell_type": "code",
   "execution_count": 818,
   "metadata": {},
   "outputs": [
    {
     "data": {
      "text/plain": [
       "[<matplotlib.lines.Line2D at 0x1a255c1850>]"
      ]
     },
     "execution_count": 818,
     "metadata": {},
     "output_type": "execute_result"
    },
    {
     "data": {
      "image/png": "[encoded data removed]",
      "text/plain": [
       "<Figure size 432x288 with 1 Axes>"
      ]
     },
     "metadata": {
      "needs_background": "light"
     },
     "output_type": "display_data"
    }
   ],
   "source": [
    "plt.plot(k_vals)\n",
    "list_k = np.zeros((num_k,1))\n",
    "for i in range(1, num_k - 1):\n",
    "    list_k[i] = (k_vals[i+1] - (1- delta)*k_vals[i])/k_vals[i]\n",
    "    \n",
    "plt.plot(list_k)\n",
    "plt.plot(k_vals)\n",
    "#print(list_k)"
   ]
  },
  {
   "cell_type": "code",
   "execution_count": 826,
   "metadata": {},
   "outputs": [],
   "source": [
    "# value iteration function (according to the pseudo code in RL book and algorithm described in Strebulaev Whited paper)\n",
    "\n",
    "def valueIteration():\n",
    "    delta = 1\n",
    "    #print(delta)\n",
    "    # keep looping when not converge\n",
    "    while(delta > 0.7):\n",
    "        delta = 0\n",
    "        \n",
    "        # iterate each pair of (z,k)\n",
    "        for z in range(num_z):\n",
    "            for k in range(num_k):\n",
    "                v = value_function[z][k]\n",
    "                value_function[z][k] = findMax(k,z)\n",
    "                delta = max(delta, np.abs(v - value_function[z][k]))\n",
    "    \n",
    "    H = np.zeros((num_z, num_k))\n",
    "    # policy function h(k,z) = k'\n",
    "    for z in range(num_z):\n",
    "        for k in range(num_k):\n",
    "            H[z][k] = int(findArgMax(k,z))\n",
    "    return H"
   ]
  },
  {
   "cell_type": "code",
   "execution_count": 749,
   "metadata": {},
   "outputs": [],
   "source": [
    "# k - k index; z - z index\n",
    "# helper function to find the max V'\n",
    "def findMax(k,z):\n",
    "    # for each k' and z calculate its expected V\n",
    "    expected_V = np.dot(trans_matrix[z],value_function)\n",
    "    expected_V = expected_V.reshape(num_k,1)\n",
    "    \n",
    "    #print(1+r)\n",
    "    #print(\"expected \" + str(expected_V))\n",
    "    #pi(k,z) - k' + (1- delta)*k\n",
    "    V_tild = z_vals[z]*k_vals[k] ** theta + 1/(1+r)*expected_V - k_vals + (1-delta) * k_vals[k]\n",
    "    #print(\"expected v tild \" + str(V_tild))\n",
    "    \n",
    "    #print(\"k \"+ str(V_tild))\n",
    "    max_V = np.max(V_tild)\n",
    "    return max_V"
   ]
  },
  {
   "cell_type": "code",
   "execution_count": 745,
   "metadata": {},
   "outputs": [],
   "source": [
    "# k - k index; z - z index\n",
    "# helper function to find the policy make the max V'\n",
    "def findArgMax(k,z):\n",
    "    # for each k' and z calculate its expected V\n",
    "    expected_V = np.dot(trans_matrix[z],value_function)\n",
    "    expected_V = expected_V.reshape(num_k,1)\n",
    "    #pi(k,z) - k' + (1- delta)*k\n",
    "    #print(1+r)\n",
    "    V_tild = z_vals[z]*k_vals[k] ** theta + 1/(1+r)*expected_V - k_vals + (1-delta) * k_vals[k]\n",
    "    \n",
    "    #print(\"k \"+ str(V_tild))\n",
    "    max_V = np.argmax(V_tild)\n",
    "    return max_V"
   ]
  },
  {
   "cell_type": "code",
   "execution_count": null,
   "metadata": {},
   "outputs": [],
   "source": []
  },
  {
   "cell_type": "code",
   "execution_count": null,
   "metadata": {},
   "outputs": [],
   "source": []
  }
 ],
 "metadata": {
  "kernelspec": {
   "display_name": "Python 3",
   "language": "python",
   "name": "python3"
  },
  "language_info": {
   "codemirror_mode": {
    "name": "ipython",
    "version": 3
   },
   "file_extension": ".py",
   "mimetype": "text/x-python",
   "name": "python",
   "nbconvert_exporter": "python",
   "pygments_lexer": "ipython3",
   "version": "3.7.6"
  }
 },
 "nbformat": 4,
 "nbformat_minor": 4
}
