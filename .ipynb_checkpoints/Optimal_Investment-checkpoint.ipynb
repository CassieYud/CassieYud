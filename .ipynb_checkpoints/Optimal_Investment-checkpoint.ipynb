{
 "cells": [
  {
   "cell_type": "code",
   "execution_count": 178,
   "metadata": {},
   "outputs": [],
   "source": [
    "import numpy as np\n",
    "import matplotlib\n",
    "from matplotlib import pyplot as plt\n",
    "from scipy.stats import norm"
   ]
  },
  {
   "cell_type": "code",
   "execution_count": 78,
   "metadata": {},
   "outputs": [],
   "source": [
    "def value_iteration():\n",
    "    return"
   ]
  },
  {
   "cell_type": "code",
   "execution_count": 79,
   "metadata": {},
   "outputs": [],
   "source": [
    "def plot_policy_function(pro):\n",
    "    plt.plot(pro)\n",
    "    plt.xlabel(\"log productivity shock\")\n",
    "    plt.ylabel(\"rate of investment\")\n",
    "    return"
   ]
  },
  {
   "cell_type": "code",
   "execution_count": 80,
   "metadata": {},
   "outputs": [
    {
     "data": {
      "image/png": "[encoded data removed]",
      "text/plain": [
       "<Figure size 432x288 with 1 Axes>"
      ]
     },
     "metadata": {
      "needs_background": "light"
     },
     "output_type": "display_data"
    }
   ],
   "source": [
    "productivity = [1,4,7]\n",
    "pro2=[2,4,6]\n",
    "plot_policy_function(productivity)\n",
    "plot_policy_function(pro2)"
   ]
  },
  {
   "cell_type": "code",
   "execution_count": 280,
   "metadata": {},
   "outputs": [],
   "source": [
    "# approximate ln(z') = 0.7*ln(z) + ε' \n",
    "# sigma(ε) = 0.15\n",
    "# Return values:\n",
    "#    z_vals: array of possible ln(z) valus\n",
    "#    trans_matrix: markov transition matrix\n",
    "# by Tauchen and Hussey \n",
    "# Resources: \n",
    "#    http://www.chrisedmond.net/phd2014/90065_lecture3.pdf (page16,17)\n",
    "#    https://python4econ.blogspot.com/2012/11/tauchen-hussey-numerical-integration.html\n",
    "\n",
    "def approximateZValues(num_z, sigma, r):\n",
    "    sigma = sigma\n",
    "    trans_matrix = np.zeros((num_z,num_z))\n",
    "    \n",
    "    # gauss hermite nodes and weights\n",
    "    nodes, weights = np.polynomial.hermite.hermgauss(20)\n",
    "    Zprob = np.zeros((num_z,num_z))\n",
    "    \n",
    "    nodes1 = nodes * np.sqrt(2 * (sigma**2))\n",
    "    weights1 = weights / np.sqrt(np.pi)\n",
    "    \n",
    "    # iterate each z\n",
    "    for i in range(num_z):\n",
    "        \n",
    "        # iterate next period z'\n",
    "        for j in range(num_z):\n",
    "            \n",
    "            #p(xj|xi) = ɸ((xj - ((1-ro)M - r*xi))/σ)= ɸ((xj -(r*xi))/σ)\n",
    "                                        #p(xj|xi)*wj/w(xj)\n",
    "            trans_matrix[i,j] = norm.pdf(nodes1[j], r*nodes1[i], sigma) * weights1[j]/ norm.pdf(nodes1[j], 0, sigma)\n",
    "\n",
    "    sum_j = np.sum(trans_matrix, axis = 1)\n",
    "    trans_matrix /= sum_j\n",
    "    \n",
    "\n",
    "#     print(\"j sum\" +str(sum_j))\n",
    "    return nodes1, trans_matrix\n",
    "\n"
   ]
  },
  {
   "cell_type": "code",
   "execution_count": 292,
   "metadata": {},
   "outputs": [
    {
     "name": "stdout",
     "output_type": "stream",
     "text": [
      "[0.31890651 0.37659365 0.43308952 0.49155217 0.55344378 0.61980385\n",
      " 0.69156403 0.76967487 0.85518129 0.94928651 1.05342275 1.16934271\n",
      " 1.2992499  1.44599771 1.61341366 1.80686826 2.03437206 2.30899143\n",
      " 2.655382   3.1357152 ]\n"
     ]
    }
   ],
   "source": [
    "# num_z = 20, var = 0.15, ro= 0.7\n",
    "ln_z_vals, trans_matrix = approximateZValues(20, 0.15, 0.7)\n",
    "\n",
    "z_vals = np.exp(ln_z_vals)\n",
    "\n",
    "# choice of grids for the state variable(k,z)\n",
    "# array of [k,z] pairs\n",
    "\n",
    "k_values = np.matrix([[49,50,51]])\n",
    "z_vals.reshape(1,20)\n",
    "k_values.reshape(3,1)\n",
    "print(z_vals)\n",
    "# initialzie V nz*nk\n",
    "value_function=np.zeros((z_values.shape[1],k_values.shape[1]))\n",
    "markov_trans_matrix = np.matrix([[0.6,0.4],[0.5,0.5]])\n",
    "# print(\"markov transition matrix is\\n\"+ str(markov_trans_matrix)+\"\\n\")\n",
    "# print(\"initial value function is \\n\" + str(value_function))"
   ]
  },
  {
   "cell_type": "code",
   "execution_count": 282,
   "metadata": {},
   "outputs": [
    {
     "data": {
      "text/plain": [
       "(array([-5.38748089, -4.60368245, -3.94476404, -3.34785457, -2.78880606,\n",
       "        -2.254974  , -1.73853771, -1.23407622, -0.73747373, -0.24534071,\n",
       "         0.24534071,  0.73747373,  1.23407622,  1.73853771,  2.254974  ,\n",
       "         2.78880606,  3.34785457,  3.94476404,  4.60368245,  5.38748089]),\n",
       " array([2.22939365e-13, 4.39934099e-10, 1.08606937e-07, 7.80255648e-06,\n",
       "        2.28338636e-04, 3.24377334e-03, 2.48105209e-02, 1.09017206e-01,\n",
       "        2.86675505e-01, 4.62243670e-01, 4.62243670e-01, 2.86675505e-01,\n",
       "        1.09017206e-01, 2.48105209e-02, 3.24377334e-03, 2.28338636e-04,\n",
       "        7.80255648e-06, 1.08606937e-07, 4.39934099e-10, 2.22939365e-13]))"
      ]
     },
     "execution_count": 282,
     "metadata": {},
     "output_type": "execute_result"
    }
   ],
   "source": [
    "nodes, weights = np.polynomial.hermite.hermgauss(20)\n",
    "nodes, weights"
   ]
  },
  {
   "cell_type": "code",
   "execution_count": null,
   "metadata": {},
   "outputs": [],
   "source": [
    "\n",
    "    print(\"gauss:\\n\"  + str(nodes1)+\"\\n\")\n",
    "    print(\"gauss weight:\\n\"+ str(weights1))"
   ]
  }
 ],
 "metadata": {
  "kernelspec": {
   "display_name": "Python 3",
   "language": "python",
   "name": "python3"
  },
  "language_info": {
   "codemirror_mode": {
    "name": "ipython",
    "version": 3
   },
   "file_extension": ".py",
   "mimetype": "text/x-python",
   "name": "python",
   "nbconvert_exporter": "python",
   "pygments_lexer": "ipython3",
   "version": "3.7.6"
  }
 },
 "nbformat": 4,
 "nbformat_minor": 4
}
